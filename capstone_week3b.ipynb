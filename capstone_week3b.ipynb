{
 "cells": [
  {
   "cell_type": "markdown",
   "metadata": {},
   "source": [
    "Perform imports and fetch the page source"
   ]
  },
  {
   "cell_type": "code",
   "execution_count": 80,
   "metadata": {},
   "outputs": [
    {
     "name": "stdout",
     "output_type": "stream",
     "text": [
      "done\n"
     ]
    }
   ],
   "source": [
    "import pandas as pd # library for data analsysis\n",
    "import requests\n",
    "\n",
    "from lxml import html\n",
    "from lxml import etree\n",
    "\n",
    "page_link = 'http://en.wikipedia.org/w/api.php?action=query&prop=revisions&rvprop=content&rvsection=0&titles=List_of_postal_codes_of_Canada:_M'\n",
    "response = requests.get('https://en.wikipedia.org/wiki/List_of_postal_codes_of_Canada:_M')\n",
    "\n",
    "page_src = response.text\n",
    "print('done')\n"
   ]
  },
  {
   "cell_type": "markdown",
   "metadata": {},
   "source": [
    "Use an xpath to find the table in the page source.  Each row of the table is an element in tlist. \n",
    "\n",
    "Loop through each element in the list, split it to get the individual table cells.  Those cells can then be cleaned up and added to a dataframe.\n",
    "\n",
    "If we see the same postcode twice, combine the rows.  "
   ]
  },
  {
   "cell_type": "code",
   "execution_count": null,
   "metadata": {},
   "outputs": [],
   "source": []
  },
  {
   "cell_type": "code",
   "execution_count": 252,
   "metadata": {},
   "outputs": [
    {
     "data": {
      "text/html": [
       "<div>\n",
       "<style scoped>\n",
       "    .dataframe tbody tr th:only-of-type {\n",
       "        vertical-align: middle;\n",
       "    }\n",
       "\n",
       "    .dataframe tbody tr th {\n",
       "        vertical-align: top;\n",
       "    }\n",
       "\n",
       "    .dataframe thead th {\n",
       "        text-align: right;\n",
       "    }\n",
       "</style>\n",
       "<table border=\"1\" class=\"dataframe\">\n",
       "  <thead>\n",
       "    <tr style=\"text-align: right;\">\n",
       "      <th></th>\n",
       "      <th>Borough</th>\n",
       "      <th>Neighborhood</th>\n",
       "      <th>Longitude</th>\n",
       "      <th>Latitude</th>\n",
       "    </tr>\n",
       "    <tr>\n",
       "      <th>Postcode</th>\n",
       "      <th></th>\n",
       "      <th></th>\n",
       "      <th></th>\n",
       "      <th></th>\n",
       "    </tr>\n",
       "  </thead>\n",
       "  <tbody>\n",
       "    <tr>\n",
       "      <th>M3A</th>\n",
       "      <td>North York</td>\n",
       "      <td>Parkwoods</td>\n",
       "      <td>0</td>\n",
       "      <td>0</td>\n",
       "    </tr>\n",
       "    <tr>\n",
       "      <th>M4A</th>\n",
       "      <td>North York</td>\n",
       "      <td>Victoria Village</td>\n",
       "      <td>0</td>\n",
       "      <td>0</td>\n",
       "    </tr>\n",
       "    <tr>\n",
       "      <th>M5A</th>\n",
       "      <td>Downtown Toronto</td>\n",
       "      <td>Harbourfront, Regent Park</td>\n",
       "      <td>0</td>\n",
       "      <td>0</td>\n",
       "    </tr>\n",
       "    <tr>\n",
       "      <th>M6A</th>\n",
       "      <td>North York</td>\n",
       "      <td>Lawrence Heights, Lawrence Manor</td>\n",
       "      <td>0</td>\n",
       "      <td>0</td>\n",
       "    </tr>\n",
       "    <tr>\n",
       "      <th>M7A</th>\n",
       "      <td>Queen's Park</td>\n",
       "      <td>Queen's Park</td>\n",
       "      <td>0</td>\n",
       "      <td>0</td>\n",
       "    </tr>\n",
       "  </tbody>\n",
       "</table>\n",
       "</div>"
      ],
      "text/plain": [
       "                   Borough                      Neighborhood Longitude  \\\n",
       "Postcode                                                                 \n",
       "M3A             North York                         Parkwoods         0   \n",
       "M4A             North York                  Victoria Village         0   \n",
       "M5A       Downtown Toronto         Harbourfront, Regent Park         0   \n",
       "M6A             North York  Lawrence Heights, Lawrence Manor         0   \n",
       "M7A           Queen's Park                      Queen's Park         0   \n",
       "\n",
       "         Latitude  \n",
       "Postcode           \n",
       "M3A             0  \n",
       "M4A             0  \n",
       "M5A             0  \n",
       "M6A             0  \n",
       "M7A             0  "
      ]
     },
     "execution_count": 252,
     "metadata": {},
     "output_type": "execute_result"
    }
   ],
   "source": [
    "el = etree.fromstring(page_src)\n",
    "tlist = el.xpath('//*[@id=\"mw-content-text\"]/div/table[1]/tbody/tr')\n",
    "tlist = tlist[1:]\n",
    "\n",
    "column_names = ['Postcode', 'Borough', 'Neighborhood', \"Longitude\", \"Latitude\"] \n",
    "df = pd.DataFrame(columns=column_names)\n",
    "\n",
    "count = 0\n",
    "for elem in tlist:\n",
    "    row_src = etree.tostring(elem, pretty_print=True, method=\"text\").decode(\"utf-8\")\n",
    "    row = row_src.split('\\n')\n",
    "\n",
    "    if (row[2] == 'Not assigned'): continue    \n",
    "    if (row[3] == 'Not assigned'): row[3] = row[2]\n",
    "        \n",
    "    postcode = row[1]\n",
    "    \n",
    "    if (postcode == last_postcode):\n",
    "        val = df.loc[count-1, 'Neighborhood']\n",
    "        df.loc[count-1, 'Neighborhood'] = val + ', ' + row[3]\n",
    "    else:\n",
    "        df = df.append({'Postcode': postcode,\n",
    "                    'Borough': row[2],'Neighborhood': row[3], \"Longitude\": 0, \"Latitude\": 0\n",
    "                    }, ignore_index=True)\n",
    "        count = count + 1\n",
    "    last_postcode = postcode\n",
    "    \n",
    "\n",
    "df.set_index('Postcode', inplace=True)\n",
    "df.head()"
   ]
  },
  {
   "cell_type": "markdown",
   "metadata": {},
   "source": [
    "Show the final shape of the table."
   ]
  },
  {
   "cell_type": "code",
   "execution_count": 146,
   "metadata": {},
   "outputs": [
    {
     "data": {
      "text/plain": [
       "(103, 3)"
      ]
     },
     "execution_count": 146,
     "metadata": {},
     "output_type": "execute_result"
    }
   ],
   "source": [
    "df.shape"
   ]
  },
  {
   "cell_type": "markdown",
   "metadata": {},
   "source": [
    "Load the postcode to long/lat mapping data"
   ]
  },
  {
   "cell_type": "code",
   "execution_count": 230,
   "metadata": {},
   "outputs": [],
   "source": [
    "df_zipll = pd.read_csv('http://cocl.us/Geospatial_data')\n",
    "df_zipll.head()\n",
    "df_zipll.set_index('Postal Code', inplace=True)\n"
   ]
  },
  {
   "cell_type": "markdown",
   "metadata": {},
   "source": [
    "Merge the long/lat data with the previous dataframe"
   ]
  },
  {
   "cell_type": "code",
   "execution_count": 251,
   "metadata": {},
   "outputs": [
    {
     "data": {
      "text/html": [
       "<div>\n",
       "<style scoped>\n",
       "    .dataframe tbody tr th:only-of-type {\n",
       "        vertical-align: middle;\n",
       "    }\n",
       "\n",
       "    .dataframe tbody tr th {\n",
       "        vertical-align: top;\n",
       "    }\n",
       "\n",
       "    .dataframe thead th {\n",
       "        text-align: right;\n",
       "    }\n",
       "</style>\n",
       "<table border=\"1\" class=\"dataframe\">\n",
       "  <thead>\n",
       "    <tr style=\"text-align: right;\">\n",
       "      <th></th>\n",
       "      <th>Postcode</th>\n",
       "      <th>Borough</th>\n",
       "      <th>Neighborhood</th>\n",
       "      <th>Longitude</th>\n",
       "      <th>Latitude</th>\n",
       "    </tr>\n",
       "  </thead>\n",
       "  <tbody>\n",
       "    <tr>\n",
       "      <th>0</th>\n",
       "      <td>M3A</td>\n",
       "      <td>North York</td>\n",
       "      <td>Parkwoods</td>\n",
       "      <td>-79.3297</td>\n",
       "      <td>43.7533</td>\n",
       "    </tr>\n",
       "    <tr>\n",
       "      <th>1</th>\n",
       "      <td>M4A</td>\n",
       "      <td>North York</td>\n",
       "      <td>Victoria Village</td>\n",
       "      <td>-79.3156</td>\n",
       "      <td>43.7259</td>\n",
       "    </tr>\n",
       "    <tr>\n",
       "      <th>2</th>\n",
       "      <td>M5A</td>\n",
       "      <td>Downtown Toronto</td>\n",
       "      <td>Harbourfront, Regent Park</td>\n",
       "      <td>-79.3606</td>\n",
       "      <td>43.6543</td>\n",
       "    </tr>\n",
       "    <tr>\n",
       "      <th>3</th>\n",
       "      <td>M6A</td>\n",
       "      <td>North York</td>\n",
       "      <td>Lawrence Heights, Lawrence Manor</td>\n",
       "      <td>-79.4648</td>\n",
       "      <td>43.7185</td>\n",
       "    </tr>\n",
       "    <tr>\n",
       "      <th>4</th>\n",
       "      <td>M7A</td>\n",
       "      <td>Queen's Park</td>\n",
       "      <td>Queen's Park</td>\n",
       "      <td>-79.3895</td>\n",
       "      <td>43.6623</td>\n",
       "    </tr>\n",
       "  </tbody>\n",
       "</table>\n",
       "</div>"
      ],
      "text/plain": [
       "  Postcode           Borough                      Neighborhood Longitude  \\\n",
       "0      M3A        North York                         Parkwoods  -79.3297   \n",
       "1      M4A        North York                  Victoria Village  -79.3156   \n",
       "2      M5A  Downtown Toronto         Harbourfront, Regent Park  -79.3606   \n",
       "3      M6A        North York  Lawrence Heights, Lawrence Manor  -79.4648   \n",
       "4      M7A      Queen's Park                      Queen's Park  -79.3895   \n",
       "\n",
       "  Latitude  \n",
       "0  43.7533  \n",
       "1  43.7259  \n",
       "2  43.6543  \n",
       "3  43.7185  \n",
       "4  43.6623  "
      ]
     },
     "execution_count": 251,
     "metadata": {},
     "output_type": "execute_result"
    }
   ],
   "source": [
    "for postcode in df.index:\n",
    "    #rint('\\'' + postcode + '\\'')\n",
    "    lat = df_zipll.loc[postcode]['Latitude']\n",
    "    df.loc[postcode, 'Latitude'] = lat\n",
    "    long = df_zipll.loc[postcode]['Longitude']\n",
    "    df.loc[postcode, 'Longitude'] = long\n",
    "    \n",
    "df.reset_index(inplace=True)\n",
    "\n",
    "df.head()"
   ]
  },
  {
   "cell_type": "code",
   "execution_count": null,
   "metadata": {},
   "outputs": [],
   "source": []
  },
  {
   "cell_type": "code",
   "execution_count": null,
   "metadata": {},
   "outputs": [],
   "source": []
  }
 ],
 "metadata": {
  "kernelspec": {
   "display_name": "Python 3",
   "language": "python",
   "name": "python3"
  },
  "language_info": {
   "codemirror_mode": {
    "name": "ipython",
    "version": 3
   },
   "file_extension": ".py",
   "mimetype": "text/x-python",
   "name": "python",
   "nbconvert_exporter": "python",
   "pygments_lexer": "ipython3",
   "version": "3.6.5"
  }
 },
 "nbformat": 4,
 "nbformat_minor": 2
}
