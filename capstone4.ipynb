{
 "cells": [
  {
   "cell_type": "markdown",
   "metadata": {},
   "source": [
    "The Dublin Ohio development lab office is likely to move to a new location in the next year or two.  I would like to understand saturation of business types in particular areas of the city as well as restaurant density and what drive time I could expect from my home location\n",
    "\n",
    "The target audience is primarily me but the same process and material would be usable by others in the Dublin office by providing a different source address.   \n",
    "\n",
    "This data will be important to people in the office as we decide if we can drive into the new office or will need to look for a new job.  "
   ]
  },
  {
   "cell_type": "markdown",
   "metadata": {},
   "source": [
    "I will use wikipedia and other sites for Columbus Ohio to gather zip code and neighborhood info for grouping.  Foursquare to collect info on locations and google/bing to determine drive time to each location from my home.  \n",
    "\n",
    "The data zip code and neighborhood data will be of the format:\n",
    "\n",
    "Zip, neighborhood, longitude, latitude\n",
    "\n",
    "The venue data will be of the format:\n",
    "\n",
    "Neighborhood, restaurant density, price range\n",
    "\n",
    "Restaurant density will be # of restaurants within a particular radius.\n",
    "\n",
    "The business data will be of the format:\n",
    "\n",
    "Neighborhood, top business types 1-5\n",
    "\n",
    "The travel data will be of the format:\n",
    "\n",
    "Neighborhood, travel time to location at 8:00 AM, travel time from location at 5:00 PM\n",
    "\n",
    "I will use google or bing to collect the travel data.\n",
    "https://msdn.microsoft.com/en-us/library/ff701717.aspx\n"
   ]
  }
 ],
 "metadata": {
  "kernelspec": {
   "display_name": "Python 3",
   "language": "python",
   "name": "python3"
  },
  "language_info": {
   "codemirror_mode": {
    "name": "ipython",
    "version": 3
   },
   "file_extension": ".py",
   "mimetype": "text/x-python",
   "name": "python",
   "nbconvert_exporter": "python",
   "pygments_lexer": "ipython3",
   "version": "3.6.5"
  }
 },
 "nbformat": 4,
 "nbformat_minor": 2
}
